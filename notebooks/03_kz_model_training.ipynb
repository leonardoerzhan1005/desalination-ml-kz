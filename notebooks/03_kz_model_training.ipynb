{
 "cells": [
  {
   "cell_type": "code",
   "execution_count": 5,
   "id": "4faa6e42",
   "metadata": {},
   "outputs": [
    {
     "data": {
      "text/html": [
       "<div>\n",
       "<style scoped>\n",
       "    .dataframe tbody tr th:only-of-type {\n",
       "        vertical-align: middle;\n",
       "    }\n",
       "\n",
       "    .dataframe tbody tr th {\n",
       "        vertical-align: top;\n",
       "    }\n",
       "\n",
       "    .dataframe thead th {\n",
       "        text-align: right;\n",
       "    }\n",
       "</style>\n",
       "<table border=\"1\" class=\"dataframe\">\n",
       "  <thead>\n",
       "    <tr style=\"text-align: right;\">\n",
       "      <th></th>\n",
       "      <th>region</th>\n",
       "      <th>temperature</th>\n",
       "      <th>salinity</th>\n",
       "      <th>ph</th>\n",
       "      <th>input_pressure</th>\n",
       "      <th>water_level</th>\n",
       "      <th>target_output_pressure</th>\n",
       "    </tr>\n",
       "  </thead>\n",
       "  <tbody>\n",
       "    <tr>\n",
       "      <th>0</th>\n",
       "      <td>Атырау</td>\n",
       "      <td>23.533769</td>\n",
       "      <td>6364.604407</td>\n",
       "      <td>7.884828</td>\n",
       "      <td>3.962737</td>\n",
       "      <td>89.592884</td>\n",
       "      <td>14.326392</td>\n",
       "    </tr>\n",
       "    <tr>\n",
       "      <th>1</th>\n",
       "      <td>Қостанай</td>\n",
       "      <td>14.234599</td>\n",
       "      <td>1635.923084</td>\n",
       "      <td>8.220378</td>\n",
       "      <td>5.830613</td>\n",
       "      <td>98.268765</td>\n",
       "      <td>2.236856</td>\n",
       "    </tr>\n",
       "    <tr>\n",
       "      <th>2</th>\n",
       "      <td>Қостанай</td>\n",
       "      <td>5.667991</td>\n",
       "      <td>1303.943051</td>\n",
       "      <td>7.593421</td>\n",
       "      <td>3.773172</td>\n",
       "      <td>22.884905</td>\n",
       "      <td>1.097420</td>\n",
       "    </tr>\n",
       "    <tr>\n",
       "      <th>3</th>\n",
       "      <td>Қызылорда</td>\n",
       "      <td>21.963826</td>\n",
       "      <td>5054.211776</td>\n",
       "      <td>7.208025</td>\n",
       "      <td>4.847827</td>\n",
       "      <td>30.492388</td>\n",
       "      <td>11.810323</td>\n",
       "    </tr>\n",
       "    <tr>\n",
       "      <th>4</th>\n",
       "      <td>Қостанай</td>\n",
       "      <td>12.832736</td>\n",
       "      <td>2879.530070</td>\n",
       "      <td>7.234086</td>\n",
       "      <td>3.739100</td>\n",
       "      <td>93.367484</td>\n",
       "      <td>5.624553</td>\n",
       "    </tr>\n",
       "  </tbody>\n",
       "</table>\n",
       "</div>"
      ],
      "text/plain": [
       "      region  temperature     salinity        ph  input_pressure  water_level  \\\n",
       "0     Атырау    23.533769  6364.604407  7.884828        3.962737    89.592884   \n",
       "1   Қостанай    14.234599  1635.923084  8.220378        5.830613    98.268765   \n",
       "2   Қостанай     5.667991  1303.943051  7.593421        3.773172    22.884905   \n",
       "3  Қызылорда    21.963826  5054.211776  7.208025        4.847827    30.492388   \n",
       "4   Қостанай    12.832736  2879.530070  7.234086        3.739100    93.367484   \n",
       "\n",
       "   target_output_pressure  \n",
       "0               14.326392  \n",
       "1                2.236856  \n",
       "2                1.097420  \n",
       "3               11.810323  \n",
       "4                5.624553  "
      ]
     },
     "execution_count": 5,
     "metadata": {},
     "output_type": "execute_result"
    }
   ],
   "source": [
    "import pandas as pd\n",
    "\n",
    "# Загрузка нового датасета\n",
    "df = pd.read_csv(\"../data/sensor_data_kz.csv\")\n",
    "df.head()"
   ]
  },
  {
   "cell_type": "code",
   "execution_count": 14,
   "id": "b28555c4",
   "metadata": {},
   "outputs": [
    {
     "data": {
      "text/html": [
       "<div>\n",
       "<style scoped>\n",
       "    .dataframe tbody tr th:only-of-type {\n",
       "        vertical-align: middle;\n",
       "    }\n",
       "\n",
       "    .dataframe tbody tr th {\n",
       "        vertical-align: top;\n",
       "    }\n",
       "\n",
       "    .dataframe thead th {\n",
       "        text-align: right;\n",
       "    }\n",
       "</style>\n",
       "<table border=\"1\" class=\"dataframe\">\n",
       "  <thead>\n",
       "    <tr style=\"text-align: right;\">\n",
       "      <th></th>\n",
       "      <th>region</th>\n",
       "      <th>temperature</th>\n",
       "      <th>salinity</th>\n",
       "      <th>ph</th>\n",
       "      <th>input_pressure</th>\n",
       "      <th>water_level</th>\n",
       "      <th>target_output_pressure</th>\n",
       "    </tr>\n",
       "  </thead>\n",
       "  <tbody>\n",
       "    <tr>\n",
       "      <th>0</th>\n",
       "      <td>Атырау</td>\n",
       "      <td>23.533769</td>\n",
       "      <td>6364.604407</td>\n",
       "      <td>7.884828</td>\n",
       "      <td>3.962737</td>\n",
       "      <td>89.592884</td>\n",
       "      <td>14.326392</td>\n",
       "    </tr>\n",
       "    <tr>\n",
       "      <th>1</th>\n",
       "      <td>Қостанай</td>\n",
       "      <td>14.234599</td>\n",
       "      <td>1635.923084</td>\n",
       "      <td>8.220378</td>\n",
       "      <td>5.830613</td>\n",
       "      <td>98.268765</td>\n",
       "      <td>2.236856</td>\n",
       "    </tr>\n",
       "    <tr>\n",
       "      <th>2</th>\n",
       "      <td>Қостанай</td>\n",
       "      <td>5.667991</td>\n",
       "      <td>1303.943051</td>\n",
       "      <td>7.593421</td>\n",
       "      <td>3.773172</td>\n",
       "      <td>22.884905</td>\n",
       "      <td>1.097420</td>\n",
       "    </tr>\n",
       "    <tr>\n",
       "      <th>3</th>\n",
       "      <td>Қызылорда</td>\n",
       "      <td>21.963826</td>\n",
       "      <td>5054.211776</td>\n",
       "      <td>7.208025</td>\n",
       "      <td>4.847827</td>\n",
       "      <td>30.492388</td>\n",
       "      <td>11.810323</td>\n",
       "    </tr>\n",
       "    <tr>\n",
       "      <th>4</th>\n",
       "      <td>Қостанай</td>\n",
       "      <td>12.832736</td>\n",
       "      <td>2879.530070</td>\n",
       "      <td>7.234086</td>\n",
       "      <td>3.739100</td>\n",
       "      <td>93.367484</td>\n",
       "      <td>5.624553</td>\n",
       "    </tr>\n",
       "  </tbody>\n",
       "</table>\n",
       "</div>"
      ],
      "text/plain": [
       "      region  temperature     salinity        ph  input_pressure  water_level  \\\n",
       "0     Атырау    23.533769  6364.604407  7.884828        3.962737    89.592884   \n",
       "1   Қостанай    14.234599  1635.923084  8.220378        5.830613    98.268765   \n",
       "2   Қостанай     5.667991  1303.943051  7.593421        3.773172    22.884905   \n",
       "3  Қызылорда    21.963826  5054.211776  7.208025        4.847827    30.492388   \n",
       "4   Қостанай    12.832736  2879.530070  7.234086        3.739100    93.367484   \n",
       "\n",
       "   target_output_pressure  \n",
       "0               14.326392  \n",
       "1                2.236856  \n",
       "2                1.097420  \n",
       "3               11.810323  \n",
       "4                5.624553  "
      ]
     },
     "execution_count": 14,
     "metadata": {},
     "output_type": "execute_result"
    }
   ],
   "source": [
    "import pandas as pd\n",
    "\n",
    "df = pd.read_csv(\"../data/sensor_data_kz.csv\")\n",
    "df.head()"
   ]
  },
  {
   "cell_type": "code",
   "execution_count": 16,
   "id": "1478a614",
   "metadata": {},
   "outputs": [],
   "source": [
    "df = df.rename(columns={\n",
    "    \"region\": \"өңір\",\n",
    "    \"temperature\": \"температура\",\n",
    "    \"salinity\": \"тұздылық\",\n",
    "    \"ph\": \"pH\",\n",
    "    \"input_pressure\": \"кіру_қысымы\",\n",
    "    \"water_level\": \"су_деңгейі\",\n",
    "    \"target_output_pressure\": \"шығыс_қысымы_болжам\"\n",
    "})"
   ]
  },
  {
   "cell_type": "code",
   "execution_count": 17,
   "id": "bc4369ea",
   "metadata": {},
   "outputs": [],
   "source": [
    "df['өңір'] = df['өңір'].astype('category')\n",
    "df['өңір_код'] = df['өңір'].cat.codes\n",
    "\n",
    "X = df[['өңір_код', 'температура', 'тұздылық', 'pH', 'кіру_қысымы', 'су_деңгейі']]\n",
    "y = df['шығыс_қысымы_болжам']"
   ]
  },
  {
   "cell_type": "code",
   "execution_count": 18,
   "id": "ff58a4d4",
   "metadata": {},
   "outputs": [
    {
     "name": "stdout",
     "output_type": "stream",
     "text": [
      "MSE: 0.1176419711137124\n",
      "R²: 0.9969587873443722\n"
     ]
    }
   ],
   "source": [
    "from sklearn.model_selection import train_test_split\n",
    "from sklearn.ensemble import RandomForestRegressor\n",
    "from sklearn.metrics import mean_squared_error, r2_score\n",
    "\n",
    "X_train, X_test, y_train, y_test = train_test_split(X, y, test_size=0.2, random_state=42)\n",
    "\n",
    "модель = RandomForestRegressor(n_estimators=100, random_state=42)\n",
    "модель.fit(X_train, y_train)\n",
    "\n",
    "y_boljam = модель.predict(X_test)\n",
    "\n",
    "print(\"MSE:\", mean_squared_error(y_test, y_boljam))\n",
    "print(\"R²:\", r2_score(y_test, y_boljam))"
   ]
  },
  {
   "cell_type": "code",
   "execution_count": 19,
   "id": "e427b7e0",
   "metadata": {},
   "outputs": [
    {
     "data": {
      "text/plain": [
       "['../models/kz_model_kazakh.pkl']"
      ]
     },
     "execution_count": 19,
     "metadata": {},
     "output_type": "execute_result"
    }
   ],
   "source": [
    "import joblib\n",
    "joblib.dump(модель, \"../models/kz_model_kazakh.pkl\")"
   ]
  }
 ],
 "metadata": {
  "kernelspec": {
   "display_name": "base",
   "language": "python",
   "name": "python3"
  },
  "language_info": {
   "codemirror_mode": {
    "name": "ipython",
    "version": 3
   },
   "file_extension": ".py",
   "mimetype": "text/x-python",
   "name": "python",
   "nbconvert_exporter": "python",
   "pygments_lexer": "ipython3",
   "version": "3.12.7"
  }
 },
 "nbformat": 4,
 "nbformat_minor": 5
}
